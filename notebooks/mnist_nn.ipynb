{
 "cells": [
  {
   "metadata": {},
   "cell_type": "markdown",
   "source": "",
   "id": "1e27f46c2a709ba"
  },
  {
   "metadata": {},
   "cell_type": "markdown",
   "source": [
    "# MNIST Neural Network Training Notebook\n",
    "\n",
    "This notebook demonstrates how to build, train, and evaluate a neural network for MNIST digit recognition from scratch. The code is modular, well-commented, and includes visualization of the training progress.\n"
   ],
   "id": "6bf6877f5632711d"
  },
  {
   "metadata": {
    "ExecuteTime": {
     "end_time": "2025-04-06T18:05:14.227464Z",
     "start_time": "2025-04-06T18:05:14.222394Z"
    }
   },
   "cell_type": "code",
   "source": [
    "# Adjust the Python path to include the project root if necessary\n",
    "\n",
    "import sys\n",
    "import os\n",
    "# sys.path.append(os.path.join(os.path.dirname(__file__), '..'))\n",
    "\n",
    "import numpy as np\n",
    "import matplotlib.pyplot as plt\n",
    "\n",
    "# Import dataset module and neural network components\n",
    "from src.dataset.dataset import load_and_preprocess_mnist\n",
    "from src.neuralnet.network import NeuralNetwork\n",
    "from src.neuralnet.layers import Dense\n",
    "from src.neuralnet.activations import relu, relu_derivative, softmax\n",
    "from src.neuralnet.losses import cross_entropy_loss, cross_entropy_loss_derivative\n",
    "from src.neuralnet.utils import one_hot_encode\n"
   ],
   "id": "4adbfdf1c3b0622e",
   "outputs": [],
   "execution_count": 5
  },
  {
   "metadata": {},
   "cell_type": "markdown",
   "source": [
    "## Load and Preprocess the MNIST Dataset\n",
    "\n",
    "We load the raw MNIST data, preprocess the images (normalization and reshaping), and split the data into training, validation, and test sets. Labels are one-hot encoded for use with the cross-entropy loss.\n"
   ],
   "id": "d5a7c47e69efc342"
  },
  {
   "metadata": {
    "ExecuteTime": {
     "end_time": "2025-04-06T18:05:29.584613Z",
     "start_time": "2025-04-06T18:05:29.228856Z"
    }
   },
   "cell_type": "code",
   "source": [
    "# Define the data directory (adjust the path as needed)\n",
    "data_dir = os.path.join(os.getcwd(), \"../data/mnist\")\n",
    "\n",
    "# Load dataset using the provided module\n",
    "train_images_all, train_labels_all, test_images, test_labels = load_and_preprocess_mnist(data_dir)\n",
    "\n",
    "# Split training data into training and validation sets (90% training, 10% validation)\n",
    "split_index = int(0.9 * train_images_all.shape[0])\n",
    "train_images = train_images_all[:split_index]\n",
    "train_labels = train_labels_all[:split_index]\n",
    "val_images = train_images_all[split_index:]\n",
    "val_labels = train_labels_all[split_index:]\n",
    "\n",
    "# One-hot encode the labels for training, validation, and test sets\n",
    "num_classes = 10\n",
    "train_labels_encoded = one_hot_encode(train_labels, num_classes)\n",
    "val_labels_encoded = one_hot_encode(val_labels, num_classes)\n",
    "test_labels_encoded = one_hot_encode(test_labels, num_classes)\n",
    "\n",
    "print(\"Training images shape:\", train_images.shape)\n",
    "print(\"Validation images shape:\", val_images.shape)\n",
    "print(\"Test images shape:\", test_images.shape)\n"
   ],
   "id": "adf795ca57a01ca9",
   "outputs": [
    {
     "name": "stdout",
     "output_type": "stream",
     "text": [
      "Training images shape: (54000, 784)\n",
      "Validation images shape: (6000, 784)\n",
      "Test images shape: (10000, 784)\n"
     ]
    }
   ],
   "execution_count": 7
  },
  {
   "metadata": {},
   "cell_type": "markdown",
   "source": [
    "## Define the Neural Network Architecture\n",
    "\n",
    "We create a simple two-layer neural network:\n",
    "- **Hidden layer:** 128 neurons with ReLU activation.\n",
    "- **Output layer:** 10 neurons with softmax activation for 10 classes.\n"
   ],
   "id": "60dfa0cccfdd1a7b"
  },
  {
   "metadata": {
    "ExecuteTime": {
     "end_time": "2025-04-06T18:06:02.683023Z",
     "start_time": "2025-04-06T18:06:02.638877Z"
    }
   },
   "cell_type": "code",
   "source": [
    "# Define the network layers\n",
    "layer1 = Dense(784, 128, activation_func=relu, activation_deriv=relu_derivative)\n",
    "layer2 = Dense(128, 10, activation_func=softmax, activation_deriv=None)\n",
    "\n",
    "# Initialize the neural network with the layers and loss functions\n",
    "network = NeuralNetwork(\n",
    "    layers=[layer1, layer2],\n",
    "    loss=cross_entropy_loss,\n",
    "    loss_derivative=cross_entropy_loss_derivative\n",
    ")\n"
   ],
   "id": "542692cdfdd16054",
   "outputs": [],
   "execution_count": 8
  },
  {
   "metadata": {},
   "cell_type": "markdown",
   "source": [
    "## Training the Neural Network\n",
    "\n",
    "The training loop performs:\n",
    "- **Forward pass:** Computes the network output.\n",
    "- **Loss calculation:** Uses cross-entropy loss.\n",
    "- **Backward pass:** Computes gradients and updates weights.\n",
    "- **Validation:** Evaluates the network on the validation set at each epoch.\n",
    "\n",
    "We record the training and validation losses for visualization.\n"
   ],
   "id": "104e4a44cf192f41"
  },
  {
   "metadata": {
    "ExecuteTime": {
     "end_time": "2025-04-06T18:12:26.212064Z",
     "start_time": "2025-04-06T18:08:26.472222Z"
    }
   },
   "cell_type": "code",
   "source": [
    "# Training hyperparameters\n",
    "epochs = 100\n",
    "learning_rate = 0.01\n",
    "\n",
    "# Lists to store loss values for plotting\n",
    "train_losses = []\n",
    "val_losses = []\n",
    "\n",
    "def compute_accuracy(y_true: np.ndarray, y_pred: np.ndarray) -> float:\n",
    "    \"\"\"\n",
    "    Compute classification accuracy.\n",
    "\n",
    "    Args:\n",
    "        y_true (np.ndarray): True labels (as integers).\n",
    "        y_pred (np.ndarray): Predicted probabilities from the network.\n",
    "\n",
    "    Returns:\n",
    "        float: Accuracy as a percentage.\n",
    "    \"\"\"\n",
    "    predictions = np.argmax(y_pred, axis=1)\n",
    "    accuracy = np.mean(predictions == y_true) * 100\n",
    "    return accuracy\n",
    "\n",
    "# Training loop\n",
    "for epoch in range(epochs):\n",
    "    # Forward pass on training data\n",
    "    train_output = network.forward(train_images)\n",
    "    train_loss = cross_entropy_loss(train_labels_encoded, train_output)\n",
    "    train_losses.append(train_loss)\n",
    "\n",
    "    # Backward pass and update weights\n",
    "    network.backward(train_images, train_labels_encoded, train_output)\n",
    "    for layer in network.layers:\n",
    "        if hasattr(layer, 'update_params'):\n",
    "            layer.update_params(learning_rate)\n",
    "\n",
    "    # Evaluate on validation data\n",
    "    val_output = network.forward(val_images)\n",
    "    val_loss = cross_entropy_loss(val_labels_encoded, val_output)\n",
    "    val_losses.append(val_loss)\n",
    "    val_accuracy = compute_accuracy(val_labels, val_output)\n",
    "\n",
    "    print(f\"Epoch {epoch+1}/{epochs} - Train Loss: {train_loss:.4f}, Val Loss: {val_loss:.4f}, Val Accuracy: {val_accuracy:.2f}%\")\n"
   ],
   "id": "4c8be41975e43158",
   "outputs": [
    {
     "name": "stdout",
     "output_type": "stream",
     "text": [
      "Epoch 1/100 - Train Loss: 2.3026, Val Loss: 2.3025, Val Accuracy: 9.27%\n",
      "Epoch 2/100 - Train Loss: 2.3025, Val Loss: 2.3024, Val Accuracy: 9.48%\n",
      "Epoch 3/100 - Train Loss: 2.3024, Val Loss: 2.3023, Val Accuracy: 9.63%\n",
      "Epoch 4/100 - Train Loss: 2.3022, Val Loss: 2.3022, Val Accuracy: 9.78%\n",
      "Epoch 5/100 - Train Loss: 2.3021, Val Loss: 2.3020, Val Accuracy: 10.07%\n",
      "Epoch 6/100 - Train Loss: 2.3020, Val Loss: 2.3019, Val Accuracy: 10.22%\n",
      "Epoch 7/100 - Train Loss: 2.3019, Val Loss: 2.3018, Val Accuracy: 10.37%\n",
      "Epoch 8/100 - Train Loss: 2.3018, Val Loss: 2.3017, Val Accuracy: 10.55%\n",
      "Epoch 9/100 - Train Loss: 2.3017, Val Loss: 2.3016, Val Accuracy: 10.88%\n",
      "Epoch 10/100 - Train Loss: 2.3015, Val Loss: 2.3014, Val Accuracy: 11.25%\n",
      "Epoch 11/100 - Train Loss: 2.3014, Val Loss: 2.3013, Val Accuracy: 11.43%\n",
      "Epoch 12/100 - Train Loss: 2.3013, Val Loss: 2.3012, Val Accuracy: 11.63%\n",
      "Epoch 13/100 - Train Loss: 2.3012, Val Loss: 2.3011, Val Accuracy: 11.90%\n",
      "Epoch 14/100 - Train Loss: 2.3011, Val Loss: 2.3010, Val Accuracy: 12.20%\n",
      "Epoch 15/100 - Train Loss: 2.3010, Val Loss: 2.3008, Val Accuracy: 12.50%\n",
      "Epoch 16/100 - Train Loss: 2.3008, Val Loss: 2.3007, Val Accuracy: 12.90%\n",
      "Epoch 17/100 - Train Loss: 2.3007, Val Loss: 2.3006, Val Accuracy: 13.22%\n",
      "Epoch 18/100 - Train Loss: 2.3006, Val Loss: 2.3005, Val Accuracy: 13.47%\n",
      "Epoch 19/100 - Train Loss: 2.3005, Val Loss: 2.3003, Val Accuracy: 13.80%\n",
      "Epoch 20/100 - Train Loss: 2.3004, Val Loss: 2.3002, Val Accuracy: 14.12%\n",
      "Epoch 21/100 - Train Loss: 2.3003, Val Loss: 2.3001, Val Accuracy: 14.33%\n",
      "Epoch 22/100 - Train Loss: 2.3001, Val Loss: 2.3000, Val Accuracy: 14.60%\n",
      "Epoch 23/100 - Train Loss: 2.3000, Val Loss: 2.2999, Val Accuracy: 15.03%\n",
      "Epoch 24/100 - Train Loss: 2.2999, Val Loss: 2.2997, Val Accuracy: 15.27%\n",
      "Epoch 25/100 - Train Loss: 2.2998, Val Loss: 2.2996, Val Accuracy: 15.73%\n",
      "Epoch 26/100 - Train Loss: 2.2997, Val Loss: 2.2995, Val Accuracy: 16.07%\n",
      "Epoch 27/100 - Train Loss: 2.2995, Val Loss: 2.2994, Val Accuracy: 16.35%\n",
      "Epoch 28/100 - Train Loss: 2.2994, Val Loss: 2.2992, Val Accuracy: 16.72%\n",
      "Epoch 29/100 - Train Loss: 2.2993, Val Loss: 2.2991, Val Accuracy: 17.02%\n",
      "Epoch 30/100 - Train Loss: 2.2992, Val Loss: 2.2990, Val Accuracy: 17.55%\n",
      "Epoch 31/100 - Train Loss: 2.2991, Val Loss: 2.2989, Val Accuracy: 17.85%\n",
      "Epoch 32/100 - Train Loss: 2.2990, Val Loss: 2.2988, Val Accuracy: 18.22%\n",
      "Epoch 33/100 - Train Loss: 2.2988, Val Loss: 2.2986, Val Accuracy: 18.50%\n",
      "Epoch 34/100 - Train Loss: 2.2987, Val Loss: 2.2985, Val Accuracy: 18.93%\n",
      "Epoch 35/100 - Train Loss: 2.2986, Val Loss: 2.2984, Val Accuracy: 19.23%\n",
      "Epoch 36/100 - Train Loss: 2.2985, Val Loss: 2.2983, Val Accuracy: 19.55%\n",
      "Epoch 37/100 - Train Loss: 2.2983, Val Loss: 2.2981, Val Accuracy: 19.78%\n",
      "Epoch 38/100 - Train Loss: 2.2982, Val Loss: 2.2980, Val Accuracy: 20.12%\n",
      "Epoch 39/100 - Train Loss: 2.2981, Val Loss: 2.2979, Val Accuracy: 20.52%\n",
      "Epoch 40/100 - Train Loss: 2.2980, Val Loss: 2.2977, Val Accuracy: 20.83%\n",
      "Epoch 41/100 - Train Loss: 2.2979, Val Loss: 2.2976, Val Accuracy: 21.32%\n",
      "Epoch 42/100 - Train Loss: 2.2977, Val Loss: 2.2975, Val Accuracy: 21.67%\n",
      "Epoch 43/100 - Train Loss: 2.2976, Val Loss: 2.2974, Val Accuracy: 22.08%\n",
      "Epoch 44/100 - Train Loss: 2.2975, Val Loss: 2.2972, Val Accuracy: 22.45%\n",
      "Epoch 45/100 - Train Loss: 2.2974, Val Loss: 2.2971, Val Accuracy: 22.83%\n",
      "Epoch 46/100 - Train Loss: 2.2972, Val Loss: 2.2970, Val Accuracy: 23.22%\n",
      "Epoch 47/100 - Train Loss: 2.2971, Val Loss: 2.2968, Val Accuracy: 23.60%\n",
      "Epoch 48/100 - Train Loss: 2.2970, Val Loss: 2.2967, Val Accuracy: 24.05%\n",
      "Epoch 49/100 - Train Loss: 2.2969, Val Loss: 2.2966, Val Accuracy: 24.33%\n",
      "Epoch 50/100 - Train Loss: 2.2967, Val Loss: 2.2964, Val Accuracy: 24.72%\n",
      "Epoch 51/100 - Train Loss: 2.2966, Val Loss: 2.2963, Val Accuracy: 25.12%\n",
      "Epoch 52/100 - Train Loss: 2.2965, Val Loss: 2.2962, Val Accuracy: 25.47%\n",
      "Epoch 53/100 - Train Loss: 2.2963, Val Loss: 2.2960, Val Accuracy: 25.75%\n",
      "Epoch 54/100 - Train Loss: 2.2962, Val Loss: 2.2959, Val Accuracy: 26.12%\n",
      "Epoch 55/100 - Train Loss: 2.2961, Val Loss: 2.2958, Val Accuracy: 26.65%\n",
      "Epoch 56/100 - Train Loss: 2.2960, Val Loss: 2.2956, Val Accuracy: 27.13%\n",
      "Epoch 57/100 - Train Loss: 2.2958, Val Loss: 2.2955, Val Accuracy: 27.52%\n",
      "Epoch 58/100 - Train Loss: 2.2957, Val Loss: 2.2954, Val Accuracy: 27.92%\n",
      "Epoch 59/100 - Train Loss: 2.2956, Val Loss: 2.2952, Val Accuracy: 28.23%\n",
      "Epoch 60/100 - Train Loss: 2.2954, Val Loss: 2.2951, Val Accuracy: 28.72%\n",
      "Epoch 61/100 - Train Loss: 2.2953, Val Loss: 2.2950, Val Accuracy: 29.10%\n",
      "Epoch 62/100 - Train Loss: 2.2952, Val Loss: 2.2948, Val Accuracy: 29.40%\n",
      "Epoch 63/100 - Train Loss: 2.2950, Val Loss: 2.2947, Val Accuracy: 29.75%\n",
      "Epoch 64/100 - Train Loss: 2.2949, Val Loss: 2.2945, Val Accuracy: 30.10%\n",
      "Epoch 65/100 - Train Loss: 2.2948, Val Loss: 2.2944, Val Accuracy: 30.43%\n",
      "Epoch 66/100 - Train Loss: 2.2946, Val Loss: 2.2942, Val Accuracy: 30.85%\n",
      "Epoch 67/100 - Train Loss: 2.2945, Val Loss: 2.2941, Val Accuracy: 31.27%\n",
      "Epoch 68/100 - Train Loss: 2.2943, Val Loss: 2.2940, Val Accuracy: 31.65%\n",
      "Epoch 69/100 - Train Loss: 2.2942, Val Loss: 2.2938, Val Accuracy: 32.03%\n",
      "Epoch 70/100 - Train Loss: 2.2941, Val Loss: 2.2937, Val Accuracy: 32.55%\n",
      "Epoch 71/100 - Train Loss: 2.2939, Val Loss: 2.2935, Val Accuracy: 32.82%\n",
      "Epoch 72/100 - Train Loss: 2.2938, Val Loss: 2.2934, Val Accuracy: 33.18%\n",
      "Epoch 73/100 - Train Loss: 2.2936, Val Loss: 2.2932, Val Accuracy: 33.53%\n",
      "Epoch 74/100 - Train Loss: 2.2935, Val Loss: 2.2931, Val Accuracy: 33.95%\n",
      "Epoch 75/100 - Train Loss: 2.2934, Val Loss: 2.2929, Val Accuracy: 34.33%\n",
      "Epoch 76/100 - Train Loss: 2.2932, Val Loss: 2.2928, Val Accuracy: 34.57%\n",
      "Epoch 77/100 - Train Loss: 2.2931, Val Loss: 2.2926, Val Accuracy: 35.00%\n",
      "Epoch 78/100 - Train Loss: 2.2929, Val Loss: 2.2925, Val Accuracy: 35.28%\n",
      "Epoch 79/100 - Train Loss: 2.2928, Val Loss: 2.2923, Val Accuracy: 35.60%\n",
      "Epoch 80/100 - Train Loss: 2.2926, Val Loss: 2.2922, Val Accuracy: 35.83%\n",
      "Epoch 81/100 - Train Loss: 2.2925, Val Loss: 2.2920, Val Accuracy: 36.07%\n",
      "Epoch 82/100 - Train Loss: 2.2923, Val Loss: 2.2919, Val Accuracy: 36.38%\n",
      "Epoch 83/100 - Train Loss: 2.2922, Val Loss: 2.2917, Val Accuracy: 36.78%\n",
      "Epoch 84/100 - Train Loss: 2.2920, Val Loss: 2.2916, Val Accuracy: 37.10%\n",
      "Epoch 85/100 - Train Loss: 2.2919, Val Loss: 2.2914, Val Accuracy: 37.30%\n",
      "Epoch 86/100 - Train Loss: 2.2917, Val Loss: 2.2912, Val Accuracy: 37.62%\n",
      "Epoch 87/100 - Train Loss: 2.2916, Val Loss: 2.2911, Val Accuracy: 37.97%\n",
      "Epoch 88/100 - Train Loss: 2.2914, Val Loss: 2.2909, Val Accuracy: 38.38%\n",
      "Epoch 89/100 - Train Loss: 2.2913, Val Loss: 2.2908, Val Accuracy: 38.68%\n",
      "Epoch 90/100 - Train Loss: 2.2911, Val Loss: 2.2906, Val Accuracy: 39.08%\n",
      "Epoch 91/100 - Train Loss: 2.2910, Val Loss: 2.2904, Val Accuracy: 39.38%\n",
      "Epoch 92/100 - Train Loss: 2.2908, Val Loss: 2.2903, Val Accuracy: 39.68%\n",
      "Epoch 93/100 - Train Loss: 2.2906, Val Loss: 2.2901, Val Accuracy: 39.87%\n",
      "Epoch 94/100 - Train Loss: 2.2905, Val Loss: 2.2899, Val Accuracy: 40.10%\n",
      "Epoch 95/100 - Train Loss: 2.2903, Val Loss: 2.2898, Val Accuracy: 40.57%\n",
      "Epoch 96/100 - Train Loss: 2.2902, Val Loss: 2.2896, Val Accuracy: 40.85%\n",
      "Epoch 97/100 - Train Loss: 2.2900, Val Loss: 2.2894, Val Accuracy: 41.17%\n",
      "Epoch 98/100 - Train Loss: 2.2898, Val Loss: 2.2893, Val Accuracy: 41.53%\n",
      "Epoch 99/100 - Train Loss: 2.2897, Val Loss: 2.2891, Val Accuracy: 41.77%\n",
      "Epoch 100/100 - Train Loss: 2.2895, Val Loss: 2.2889, Val Accuracy: 41.92%\n"
     ]
    }
   ],
   "execution_count": 13
  },
  {
   "metadata": {},
   "cell_type": "markdown",
   "source": [
    "## Visualize Training Progress\n",
    "\n",
    "The plot below shows the training and validation loss over epochs, which helps us monitor the network's learning progress.\n"
   ],
   "id": "b228c2321cc7d307"
  },
  {
   "metadata": {
    "ExecuteTime": {
     "end_time": "2025-04-06T18:12:26.632248Z",
     "start_time": "2025-04-06T18:12:26.310556Z"
    }
   },
   "cell_type": "code",
   "source": [
    "plt.figure(figsize=(8, 6))\n",
    "plt.plot(range(1, epochs+1), train_losses, label='Training Loss')\n",
    "plt.plot(range(1, epochs+1), val_losses, label='Validation Loss')\n",
    "plt.xlabel('Epoch')\n",
    "plt.ylabel('Loss')\n",
    "plt.title('Training and Validation Loss over Epochs')\n",
    "plt.legend()\n",
    "plt.grid(True)\n",
    "plt.show()\n"
   ],
   "id": "d640832da865ff73",
   "outputs": [
    {
     "data": {
      "text/plain": [
       "<Figure size 800x600 with 1 Axes>"
      ],
      "image/png": "[encoded data removed]"
     },
     "metadata": {},
     "output_type": "display_data"
    }
   ],
   "execution_count": 14
  },
  {
   "metadata": {},
   "cell_type": "markdown",
   "source": [
    "## Evaluate the Trained Network on the Test Set\n",
    "\n",
    "We now evaluate the network on the test set to measure its performance using the test loss and accuracy.\n"
   ],
   "id": "3b02156cbb29036e"
  },
  {
   "metadata": {
    "ExecuteTime": {
     "end_time": "2025-04-06T18:12:26.810040Z",
     "start_time": "2025-04-06T18:12:26.705081Z"
    }
   },
   "cell_type": "code",
   "source": [
    "# Evaluate on the test set\n",
    "test_output = network.forward(test_images)\n",
    "test_loss = cross_entropy_loss(test_labels_encoded, test_output)\n",
    "test_accuracy = compute_accuracy(test_labels, test_output)\n",
    "print(f\"Test Loss: {test_loss:.4f}, Test Accuracy: {test_accuracy:.2f}%\")\n"
   ],
   "id": "1d81809a48562423",
   "outputs": [
    {
     "name": "stdout",
     "output_type": "stream",
     "text": [
      "Test Loss: 2.2889, Test Accuracy: 40.73%\n"
     ]
    }
   ],
   "execution_count": 15
  },
  {
   "metadata": {},
   "cell_type": "markdown",
   "source": [
    "## Visualize Some Test Predictions\n",
    "\n",
    "Below, we display a few random test images along with their predicted and true labels.\n"
   ],
   "id": "9a61c079faaf3ea7"
  },
  {
   "metadata": {
    "ExecuteTime": {
     "end_time": "2025-04-06T18:12:27.543253Z",
     "start_time": "2025-04-06T18:12:26.860881Z"
    }
   },
   "cell_type": "code",
   "source": [
    "import random\n",
    "\n",
    "num_display = 10\n",
    "indices = random.sample(range(test_images.shape[0]), num_display)\n",
    "sample_images = test_images[indices]\n",
    "sample_labels = test_labels[indices]\n",
    "sample_output = network.forward(sample_images)\n",
    "predicted_labels = np.argmax(sample_output, axis=1)\n",
    "\n",
    "plt.figure(figsize=(15, 4))\n",
    "for i, idx in enumerate(indices):\n",
    "    plt.subplot(1, num_display, i+1)\n",
    "    # Reshape the flattened image back to 28x28 for display\n",
    "    plt.imshow(test_images[idx].reshape(28, 28), cmap='gray')\n",
    "    plt.title(f\"True: {sample_labels[i]}\\nPred: {predicted_labels[i]}\")\n",
    "    plt.axis('off')\n",
    "plt.show()\n"
   ],
   "id": "80128b32cc3196d9",
   "outputs": [
    {
     "data": {
      "text/plain": [
       "<Figure size 1500x400 with 10 Axes>"
      ],
      "image/png": "[encoded data removed]"
     },
     "metadata": {},
     "output_type": "display_data"
    }
   ],
   "execution_count": 16
  },
  {
   "metadata": {
    "ExecuteTime": {
     "end_time": "2025-04-06T18:12:27.585855Z",
     "start_time": "2025-04-06T18:12:27.581664Z"
    }
   },
   "cell_type": "code",
   "source": "",
   "id": "bfcbc436e7be737a",
   "outputs": [],
   "execution_count": null
  },
  {
   "metadata": {},
   "cell_type": "markdown",
   "source": [
    "## Conclusion\n",
    "\n",
    "In this notebook, we built a neural network from scratch, trained it on the MNIST dataset, and visualized the training progress and test predictions. The modular design of the code allows for easy extensions and reuse in future projects.\n"
   ],
   "id": "9f2070e6dd42c471"
  },
  {
   "metadata": {
    "ExecuteTime": {
     "end_time": "2025-04-06T18:41:46.293933Z",
     "start_time": "2025-04-06T18:41:46.291553Z"
    }
   },
   "cell_type": "code",
   "source": "",
   "id": "6b3be2d034c7f138",
   "outputs": [],
   "execution_count": null
  },
  {
   "metadata": {
    "ExecuteTime": {
     "end_time": "2025-04-06T18:41:46.490595Z",
     "start_time": "2025-04-06T18:41:46.488033Z"
    }
   },
   "cell_type": "code",
   "source": "",
   "id": "ec5ba67989528b2f",
   "outputs": [],
   "execution_count": null
  },
  {
   "metadata": {},
   "cell_type": "code",
   "outputs": [],
   "execution_count": null,
   "source": "",
   "id": "3eecf1b127df91c3"
  }
 ],
 "metadata": {
  "kernelspec": {
   "name": "python3",
   "language": "python",
   "display_name": "Python 3 (ipykernel)"
  }
 },
 "nbformat": 5,
 "nbformat_minor": 9
}
